{
 "cells": [
  {
   "cell_type": "code",
   "execution_count": 90,
   "metadata": {},
   "outputs": [
    {
     "name": "stdout",
     "output_type": "stream",
     "text": [
      "      width < 10: 34706.0\n",
      "10 <= width < 20: 57250.0\n",
      "20 <= width < 30: 24885.0\n",
      "30 <= width < 40: 13338.0\n",
      "40 <= width < 50: 8011.0\n",
      "50 <= width     : 20699.0\n",
      "--------------------------------------------------\n",
      "       width/height < 0.6: 7720.0\n",
      "0.6 <= width/height < 0.7: 22966.0\n",
      "0.7 <= width/height < 0.8: 46997.0\n",
      "0.8 <= width/height < 0.9: 45458.0\n",
      "0.9 <= width/height < 1.0: 16786.0\n",
      "1.0 <= width/height      : 18962.0\n"
     ]
    },
    {
     "data": {
      "image/png": "[encoded data removed]",
      "text/plain": [
       "<Figure size 640x480 with 1 Axes>"
      ]
     },
     "metadata": {},
     "output_type": "display_data"
    },
    {
     "name": "stdout",
     "output_type": "stream",
     "text": [
      "The number of invalid bounding boxes: 535\n"
     ]
    }
   ],
   "source": [
    "import numpy as np\n",
    "import matplotlib.pyplot as plt\n",
    "%matplotlib inline\n",
    "\n",
    "if __name__ == '__main__':\n",
    "  anno_file = 'annotation.txt'\n",
    "  with open(anno_file, 'r') as fp:\n",
    "    lines = fp.readlines()\n",
    "  # Enter your code here (25%)\n",
    "  # You might use the following to access each line\n",
    "  widths = []\n",
    "  width_statistics = np.zeros(6)\n",
    "  width_height_ratio = np.zeros(6)\n",
    "  invalid_boxes_count = 0\n",
    "  for line in lines:\n",
    "    annotation = line.strip().split(' ')\n",
    "    annotation = list(map(int, annotation[1:]))\n",
    "    annotation = np.array(annotation).reshape(-1,4)\n",
    "\n",
    "    valid_boxes = (annotation[:,0] >= 0) & (annotation[:,1] >= 0) & (annotation[:,2] > annotation[:,0]) & (annotation[:,3] > annotation[:,1])\n",
    "    invalid_boxes = ~valid_boxes\n",
    "    invalid_boxes_count += invalid_boxes.sum()\n",
    "\n",
    "    #assert (annotation[:,0] >= 0).all() and (annotation[:,1] >= 0).all() , 'box coordinate error'\n",
    "    #assert (annotation[:,2] > annotation[:,0]).all() and (annotation[:,3] > annotation[:,1]).all() , 'invalid box'\n",
    "    annotation = annotation[valid_boxes]\n",
    "\n",
    "    width = annotation[:, 2] - annotation[:, 0] + 1\n",
    "    widths.extend(width)\n",
    "    height = annotation[:, 3] - annotation[:, 1] + 1\n",
    "    width_height = width/height \n",
    "    \n",
    "\n",
    "    width_statistics += np.array([(width<10).sum(),(width<20).sum() - (width<10).sum(),(width<30).sum() - (width<20).sum(),(width<40).sum() - (width<30).sum(),(width<50).sum() - (width<40).sum(),(width>=50).sum()])\n",
    "    width_height_ratio += np.array([(width_height<0.6).sum(), (width_height<0.7).sum() - (width_height<0.6).sum(), (width_height<0.8).sum() - (width_height<0.7).sum(), (width_height<0.9).sum() - (width_height<0.8).sum(), (width_height<1.0).sum() - (width_height<0.9).sum(), (width_height>=1.0).sum()])\n",
    "\n",
    "  \n",
    "\n",
    "\n",
    "\n",
    "  print(\"{:>{}}: {}\".format(\"width < 10\",       len(\"10 <= width < 20\"), width_statistics[0]))\n",
    "  print(\"{:>{}}: {}\".format(\"10 <= width < 20\", len(\"10 <= width < 20\"), width_statistics[1]))\n",
    "  print(\"{:>{}}: {}\".format(\"20 <= width < 30\", len(\"10 <= width < 20\"), width_statistics[2]))\n",
    "  print(\"{:>{}}: {}\".format(\"30 <= width < 40\", len(\"10 <= width < 20\"), width_statistics[3]))\n",
    "  print(\"{:>{}}: {}\".format(\"40 <= width < 50\", len(\"10 <= width < 20\"), width_statistics[4]))\n",
    "  print(\"{:<{}}: {}\".format(\"50 <= width\",      len(\"10 <= width < 20\"), width_statistics[5]))\n",
    "\n",
    "  print('-'*50)\n",
    "\n",
    "  print(\"{:>{}}: {}\".format(\"width/height < 0.6\",       len(\"0.6 <= width/height < 0.7\"), width_height_ratio[0]))\n",
    "  print(\"{:>{}}: {}\".format(\"0.6 <= width/height < 0.7\", len(\"0.6 <= width/height < 0.7\"), width_height_ratio[1]))\n",
    "  print(\"{:>{}}: {}\".format(\"0.7 <= width/height < 0.8\", len(\"0.6 <= width/height < 0.7\"), width_height_ratio[2]))\n",
    "  print(\"{:>{}}: {}\".format(\"0.8 <= width/height < 0.9\", len(\"0.6 <= width/height < 0.7\"), width_height_ratio[3]))\n",
    "  print(\"{:>{}}: {}\".format(\"0.9 <= width/height < 1.0\", len(\"0.6 <= width/height < 0.7\"), width_height_ratio[4]))\n",
    "  print(\"{:<{}}: {}\".format(\"1.0 <= width/height\",      len(\"0.6 <= width/height < 0.7\"), width_height_ratio[5]))\n",
    "\n",
    "\n",
    "  plt.hist(widths, range(0, 101, 10), rwidth=0.85)\n",
    "  plt.xlabel('Width')\n",
    "  plt.ylabel('Counts')\n",
    "  plt.grid(axis='y', linestyle='--', alpha=0.5)\n",
    "  plt.show()\n",
    "  \n",
    "  print(\"The number of invalid bounding boxes:\",invalid_boxes_count)"
   ]
  },
  {
   "cell_type": "code",
   "execution_count": 10,
   "metadata": {},
   "outputs": [],
   "source": [
    "# Step 2b.5: In Step 2b.1, we only consider valid bounding boxes. How many bounding boxes are invalid? Modify the above code to find the answer. (5%)\n",
    "# Write down your answer here."
   ]
  },
  {
   "cell_type": "markdown",
   "metadata": {},
   "source": [
    "1. 有 535 個 invalid bounding boxes\n",
    "2. 我是利用numpy中的布林數值遮罩去求取 valid bounding boxes 的，因此為了求出 invalid bounding boxes 我只需對 valid bounding boxes 取反遮罩，再利用 numpy 中的 sum() 函數去求和，並累加成最後總數"
   ]
  }
 ],
 "metadata": {
  "kernelspec": {
   "display_name": "Python 3",
   "language": "python",
   "name": "python3"
  },
  "language_info": {
   "codemirror_mode": {
    "name": "ipython",
    "version": 3
   },
   "file_extension": ".py",
   "mimetype": "text/x-python",
   "name": "python",
   "nbconvert_exporter": "python",
   "pygments_lexer": "ipython3",
   "version": "3.8.18"
  }
 },
 "nbformat": 4,
 "nbformat_minor": 2
}
